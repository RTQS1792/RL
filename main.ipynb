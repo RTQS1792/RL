{
 "cells": [
  {
   "cell_type": "code",
   "execution_count": 22,
   "metadata": {},
   "outputs": [
    {
     "data": {
      "text/plain": [
       "<module 'qtable' from '/Users/hanqingqi/Desktop/RL/qtable.py'>"
      ]
     },
     "execution_count": 22,
     "metadata": {},
     "output_type": "execute_result"
    }
   ],
   "source": [
    "import importlib as imp\n",
    "import gridenvironment as ge\n",
    "import qtable as qt \n",
    "\n",
    "imp.reload(ge)\n",
    "imp.reload(qt)"
   ]
  },
  {
   "cell_type": "code",
   "execution_count": 23,
   "metadata": {},
   "outputs": [
    {
     "data": {
      "image/png": "[encoded data removed]",
      "text/plain": [
       "<Figure size 400x400 with 1 Axes>"
      ]
     },
     "metadata": {},
     "output_type": "display_data"
    }
   ],
   "source": [
    "# Reinforcement learning parameters\n",
    "α = 0.4  # Learning rate\n",
    "γ = 1.0  # Discount factor\n",
    "ε = 0.3  # Exploration rate\n",
    "NUM_EPISODES = 10000000  # Total number of episodes\n",
    "ACTIONS = {\n",
    "    \"0\": (0, 1),  # Move right\n",
    "    \"1\": (1, 0),  # Move down\n",
    "    \"2\": (0, -1),  # Move left\n",
    "    \"3\": (-1, 0),  # Move up\n",
    "    \"4\": (0, 0)  # Stay\n",
    "}\n",
    "\n",
    "env = ge.GridEnvironment(map_name='map2')\n",
    "env.render()\n",
    "Q = qt.QTable(env.map_size, len(ACTIONS), env.num_agents)\n"
   ]
  },
  {
   "cell_type": "code",
   "execution_count": 24,
   "metadata": {},
   "outputs": [
    {
     "name": "stderr",
     "output_type": "stream",
     "text": [
      "100%|██████████| 10000000/10000000 [03:20<00:00, 49907.89it/s]\n"
     ]
    }
   ],
   "source": [
    "from tqdm import tqdm\n",
    "\n",
    "for episode in tqdm(range(NUM_EPISODES)):\n",
    "    current_state_x = env.reset()\n",
    "    current_action_x = env.choose_action(current_state_x, Q.table, ε)\n",
    "    while True:\n",
    "        # print(current_state_x, current_action_x)\n",
    "        next_state_x, reward, done = env.step(current_action_x, ACTIONS)\n",
    "        next_action_x = env.choose_action(next_state_x, Q.table, ε)\n",
    "        # print(next_state_x, next_action_x)\n",
    "        Q.update(current_state_x, current_action_x, reward, next_state_x, next_action_x, α, γ)\n",
    "        # print(current_action_x, next_action_x)\n",
    "        current_state_x, current_action_x = next_state_x, next_action_x\n",
    "        if done:\n",
    "            if reward >= 0:\n",
    "                print(\"Episode {} finished successfully\".format(episode))\n",
    "                import time\n",
    "                time.sleep(1)\n",
    "            break"
   ]
  },
  {
   "cell_type": "code",
   "execution_count": 25,
   "metadata": {},
   "outputs": [
    {
     "name": "stdout",
     "output_type": "stream",
     "text": [
      "[-1.451891  -1.0999999 -1.6218858 -1.0999999 -1.0999999 -1.0999999\n",
      " -2.1       -1.0999999 -2.1       -1.0999999 -1.0999999 -2.1\n",
      " -1.0999999 -2.1       -1.0999999 -1.1745294 -1.0999999 -1.1691154\n",
      " -1.0999999 -1.1300195 -1.2806878 -1.0999999 -1.0999999 -1.0999999\n",
      " -1.1400977 -1.0999999 -2.1       -1.0999999 -2.1       -1.24\n",
      " -1.0999999 -2.1       -1.0999999 -2.1       -1.344     -1.0999999\n",
      " -2.1       -1.0999999 -2.1       -1.344     -1.1159188 -1.0999999\n",
      " -2.0408397 -1.0999999 -1.0999999 -1.1206465 -1.0999999 -1.0999999\n",
      " -1.0999999 -1.0999999 -1.4189856 -1.0999999 -1.1300368 -1.0999999\n",
      " -1.0999999 -1.0999999 -2.1       -1.0999999 -2.1       -1.0999999\n",
      " -1.0999999 -2.1       -1.0999999 -2.1       -1.0999999 -1.0999999\n",
      " -2.1       -1.0999999 -2.1       -1.0999999 -1.3160309 -1.0999999\n",
      " -1.0999999 -1.0999999 -1.167151  -1.0999999 -2.1       -1.0999999\n",
      " -2.1       -1.344     -2.1       -3.1       -2.1       -3.1\n",
      " -1.344     -2.1       -3.1       -2.1       -3.1       -1.344\n",
      " -1.0999999 -2.1       -1.0999999 -2.1       -1.0999999 -1.0999999\n",
      " -1.344     -1.344     -1.344     -1.0999999 -1.0999999 -1.344\n",
      " -1.0999999 -1.24      -1.344     -1.344     -1.24      -1.344\n",
      " -1.64      -1.344     -1.344     -1.24      -1.344     -1.64\n",
      " -1.344     -1.0999999 -1.344     -1.0999999 -1.24      -1.0999999\n",
      " -1.0999999 -1.344     -1.344     -1.24      -1.0999999 -1.2319716\n",
      " -1.0999999 -1.0999999 -1.3264666 -1.0999999 -1.0999999 -2.1\n",
      " -2.1       -1.0999999 -1.0999999 -1.0999999 -2.1       -2.1\n",
      " -1.0999999 -1.0999999 -1.2236928 -1.0999999 -1.0999999 -1.1859475\n",
      " -1.2654958 -1.0999999 -1.344     -1.24      -1.0999999 -1.0999999\n",
      " -1.0999999 -2.1       -2.1       -1.0999999 -1.24      -1.0999999\n",
      " -2.1       -2.1       -1.0999999 -1.344     -1.0999999 -2.1\n",
      " -2.1       -1.0999999 -1.344     -1.2335397 -1.0999999 -1.0999999\n",
      " -1.2960213 -1.0999999 -1.0999999 -1.344     -1.24      -1.0999999\n",
      " -1.344     -1.2361839 -1.0999999 -1.0999999 -1.8333074 -1.0999999\n",
      " -1.0999999 -2.1       -2.1       -1.0999999 -1.0999999 -1.0999999\n",
      " -2.1       -2.1       -1.0999999 -1.0999999 -1.0999999 -2.1\n",
      " -2.1       -1.0999999 -1.0999999 -1.0999999 -1.344     -1.24\n",
      " -1.0999999 -1.0999999 -1.0999999 -2.1       -2.1       -1.0999999\n",
      " -1.344     -2.1       -3.1       -3.1       -2.1       -1.344\n",
      " -2.1       -3.1       -3.1       -2.1       -1.344     -1.0999999\n",
      " -2.1       -2.1       -1.0999999 -1.0999999 -1.344     -1.24\n",
      " -1.64      -1.344     -1.344     -1.3080338 -1.0999999 -1.0999999\n",
      " -1.0999999 -1.0999999 -1.0999999 -1.344     -1.344     -1.344\n",
      " -1.0999999 -1.0999999 -1.344     -1.344     -1.344     -1.0999999\n",
      " -1.1012515 -1.0999999 -1.0999999 -1.0999999 -1.1877426 -1.0999999\n",
      " -1.344     -1.24      -1.344     -1.0999999 -1.4209715 -1.0999999\n",
      " -1.7884936 -1.2093865 -1.0999999 -1.0999999 -2.1       -1.0999999\n",
      " -1.0999999 -1.0999999 -1.0999999 -2.1       -1.0999999 -1.0999999\n",
      " -1.0999999 -1.1709336 -1.0999999 -2.1374264 -1.2127767 -1.2660148\n",
      " -1.1792008 -1.0999999 -1.0999999 -1.1496127 -1.17986   -1.0999999\n",
      " -2.1       -1.0999999 -1.0999999 -1.24      -1.0999999 -2.1\n",
      " -1.0999999 -1.0999999 -1.344     -1.0999999 -2.1       -1.0999999\n",
      " -1.0999999 -1.344     -1.7191576 -1.0999999 -1.1984624 -1.1397512\n",
      " -1.0999999 -1.3143677 -1.0999999 -1.0999999 -1.2935702 -1.0999999\n",
      " -1.116051  -1.0999999 -1.3429708 -1.2533766 -1.0999999 -1.0999999\n",
      " -2.1       -1.0999999 -1.0999999 -1.0999999 -1.0999999 -2.1\n",
      " -1.0999999 -1.0999999 -1.0999999 -1.0999999 -2.1       -1.0999999\n",
      " -1.0999999 -1.0999999 -1.1705598 -1.0999999 -1.0999999 -1.3848224\n",
      " -1.3602368 -1.0999999 -2.1       -1.0999999 -1.0999999 -1.344\n",
      " -2.1       -3.1       -2.1       -2.1       -1.344     -2.1\n",
      " -3.1       -2.1       -2.1       -1.344     -1.0999999 -2.1\n",
      " -1.0999999 -1.0999999 -1.0999999 -1.0999999 -1.344     -1.344\n",
      " -1.0999999 -1.0999999 -1.2168285 -1.0999999 -1.1467872 -1.0999999\n",
      " -1.0999999 -1.0999999 -1.344     -1.0999999 -1.344     -1.0999999\n",
      " -1.0999999 -1.344     -1.0999999 -1.344     -1.0999999 -1.2190256\n",
      " -1.0999999 -1.1198089 -1.0999999 -1.104355  -1.5208791 -1.0999999\n",
      " -1.0999999 -1.0999999 -1.2237204 -2.0595765 -1.0999999 -1.2924001\n",
      " -1.5754656 -1.0999999 -1.0999999 -2.1       -1.0999999 -1.0999999\n",
      " -1.0999999 -1.0999999 -2.1       -1.0999999 -1.0999999 -1.0999999\n",
      " -1.274678  -1.0999999 -1.165546  -2.2499933 -1.142646  -1.1682042\n",
      " -1.0999999 -1.0999999 -1.246332  -1.2055242 -1.0999999 -2.1\n",
      " -1.0999999 -1.0999999 -1.24      -1.0999999 -2.1       -1.0999999\n",
      " -1.0999999 -1.344     -1.0999999 -2.1       -1.0999999 -1.0999999\n",
      " -1.344     -1.1227549 -1.0999999 -1.2152348 -1.1183299 -1.0999999\n",
      " -1.1559232 -1.0999999 -1.0999999 -1.1021345 -1.0999999 -1.1670024\n",
      " -1.0999999 -1.1943232 -1.4710023 -1.0999999 -1.0999999 -2.1\n",
      " -1.0999999 -1.0999999 -1.0999999 -1.0999999 -2.1       -1.0999999\n",
      " -1.0999999 -1.0999999 -1.0999999 -2.1       -1.0999999 -1.0999999\n",
      " -1.0999999 -1.1137158 -1.0999999 -1.0999999 -1.2236476 -1.1088339\n",
      " -1.0999999 -2.1       -1.0999999 -1.0999999 -1.344     -2.1\n",
      " -3.1       -2.1       -2.1       -1.344     -2.1       -3.1\n",
      " -2.1       -2.1       -1.344     -1.0999999 -2.1       -1.0999999\n",
      " -1.0999999 -1.0999999 -1.0999999 -1.344     -1.344     -1.0999999\n",
      " -1.0999999 -1.1165249 -1.0999999 -1.1051496 -1.0999999 -1.0999999\n",
      " -1.0999999 -1.344     -1.0999999 -1.344     -1.0999999 -1.0999999\n",
      " -1.344     -1.0999999 -1.344     -1.0999999 -1.1513289 -1.0999999\n",
      " -1.1141253 -1.0999999 -1.2674094 -1.3989304 -1.0999999 -1.0999999\n",
      " -1.0999999 -1.1518219 -1.451201  -1.0999999 -1.2007029 -1.1547174\n",
      " -1.0999999 -1.0999999 -1.344     -1.0999999 -1.0999999 -1.0999999\n",
      " -1.0999999 -1.344     -1.0999999 -1.0999999 -1.0999999 -1.0999999\n",
      " -1.344     -1.0999999 -1.0999999 -1.0999999 -1.4566736 -1.0999999\n",
      " -1.0999999 -1.1173207 -1.2427673 -1.0999999 -1.344     -1.0999999\n",
      " -1.0999999 -1.24      -1.0999999 -1.344     -1.0999999 -1.0999999\n",
      " -1.344     -1.0999999 -1.344     -1.0999999 -1.0999999 -1.344\n",
      " -1.0999999 -1.344     -1.0999999 -1.0999999 -1.344     -1.2609198\n",
      " -1.0999999 -1.0999999 -1.4738566 -1.0999999 -1.0999999 -1.344\n",
      " -1.0999999 -1.0999999 -1.344     -1.344     -1.24      -1.344\n",
      " -1.344     -1.344     -1.344     -1.24      -1.344     -1.344\n",
      " -1.344     -1.24      -1.64      -1.24      -1.24      -1.24\n",
      " -1.0999999 -1.344     -1.344     -1.0999999 -1.0999999 -1.0999999\n",
      " -1.344     -1.0999999 -1.0999999 -1.344     -1.344     -1.24\n",
      " -1.344     -1.344     -1.344     -1.344     -1.24      -1.344\n",
      " -1.344     -1.344     -1.344     -1.24      -1.344     -1.344\n",
      " -1.344     -1.0999999 -1.344     -1.344     -1.0999999 -1.0999999\n",
      " -1.4238286 -1.0999999 -1.2181466 -1.0999999 -1.0999999 -1.0999999\n",
      " -1.344     -1.0999999 -1.344     -1.0999999 -1.0999999 -1.344\n",
      " -1.0999999 -1.344     -1.0999999 -1.0999999 -1.344     -1.0999999\n",
      " -1.344     -1.0999999 -1.2083328 -1.0999999 -1.0999999 -1.0999999\n",
      " -1.1613014]\n",
      "1\n",
      "54556474\n",
      "1\n"
     ]
    }
   ],
   "source": [
    "print(Q.table[11455732])\n",
    "print(Q.table[11455732].argmax())\n",
    "print(current_state_x)\n",
    "import numpy as np\n",
    "max_action_x = np.base_repr(Q.table[11455732].argmax(), base=5, padding=0)\n",
    "print(max_action_x)"
   ]
  },
  {
   "cell_type": "code",
   "execution_count": 28,
   "metadata": {},
   "outputs": [
    {
     "name": "stdout",
     "output_type": "stream",
     "text": [
      "53546364\n",
      "54556474\n",
      "55566575\n",
      "56576676\n",
      "57586777\n"
     ]
    },
    {
     "ename": "ValueError",
     "evalue": "invalid literal for int() with base 8: '57586777'",
     "output_type": "error",
     "traceback": [
      "\u001b[0;31m---------------------------------------------------------------------------\u001b[0m",
      "\u001b[0;31mValueError\u001b[0m                                Traceback (most recent call last)",
      "Cell \u001b[0;32mIn[28], line 1\u001b[0m\n\u001b[0;32m----> 1\u001b[0m \u001b[43menv\u001b[49m\u001b[38;5;241;43m.\u001b[39;49m\u001b[43mshow_result\u001b[49m\u001b[43m(\u001b[49m\u001b[43mQ\u001b[49m\u001b[38;5;241;43m.\u001b[39;49m\u001b[43mtable\u001b[49m\u001b[43m,\u001b[49m\u001b[43m \u001b[49m\u001b[43mACTIONS\u001b[49m\u001b[43m)\u001b[49m\n",
      "File \u001b[0;32m~/Desktop/RL/gridenvironment.py:92\u001b[0m, in \u001b[0;36mGridEnvironment.show_result\u001b[0;34m(self, qtable, ACTIONS)\u001b[0m\n\u001b[1;32m     90\u001b[0m \u001b[38;5;28;01mwhile\u001b[39;00m \u001b[38;5;28;01mTrue\u001b[39;00m:\n\u001b[1;32m     91\u001b[0m     \u001b[38;5;28mprint\u001b[39m(temp)\n\u001b[0;32m---> 92\u001b[0m     current_state_10 \u001b[38;5;241m=\u001b[39m \u001b[38;5;28;43mint\u001b[39;49m\u001b[43m(\u001b[49m\u001b[43mtemp\u001b[49m\u001b[43m,\u001b[49m\u001b[43m \u001b[49m\u001b[38;5;28;43mself\u001b[39;49m\u001b[38;5;241;43m.\u001b[39;49m\u001b[43mmap_size\u001b[49m\u001b[43m)\u001b[49m\n\u001b[1;32m     93\u001b[0m     max_action_10 \u001b[38;5;241m=\u001b[39m np\u001b[38;5;241m.\u001b[39margmax(qtable[current_state_10])\n\u001b[1;32m     94\u001b[0m     max_action_x \u001b[38;5;241m=\u001b[39m np\u001b[38;5;241m.\u001b[39mbase_repr(max_action_10, base\u001b[38;5;241m=\u001b[39m\u001b[38;5;241m5\u001b[39m)\n",
      "\u001b[0;31mValueError\u001b[0m: invalid literal for int() with base 8: '57586777'"
     ]
    }
   ],
   "source": [
    "env.show_result(Q.table, ACTIONS)"
   ]
  }
 ],
 "metadata": {
  "kernelspec": {
   "display_name": "Python 3",
   "language": "python",
   "name": "python3"
  },
  "language_info": {
   "codemirror_mode": {
    "name": "ipython",
    "version": 3
   },
   "file_extension": ".py",
   "mimetype": "text/x-python",
   "name": "python",
   "nbconvert_exporter": "python",
   "pygments_lexer": "ipython3",
   "version": "3.11.5"
  }
 },
 "nbformat": 4,
 "nbformat_minor": 2
}
